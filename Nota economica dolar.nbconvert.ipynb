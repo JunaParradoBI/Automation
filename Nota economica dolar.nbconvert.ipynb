{
 "cells": [
  {
   "cell_type": "code",
   "execution_count": 1,
   "metadata": {
    "execution": {
     "iopub.execute_input": "2024-07-31T13:51:14.395738Z",
     "iopub.status.busy": "2024-07-31T13:51:14.394739Z",
     "iopub.status.idle": "2024-07-31T13:51:16.518843Z",
     "shell.execute_reply": "2024-07-31T13:51:16.518843Z"
    }
   },
   "outputs": [],
   "source": [
    "import os\n",
    "import datetime\n",
    "import smtplib\n",
    "from email.message import EmailMessage\n",
    "import locale\n",
    "import calendar\n",
    "import pandas as pd\n",
    "import pyodbc\n",
    "import xlwings as xw\n",
    "from openpyxl.utils import get_column_letter\n"
   ]
  },
  {
   "cell_type": "markdown",
   "metadata": {},
   "source": [
    "**Download Exchange Rate from Yahoo Finance**"
   ]
  },
  {
   "cell_type": "code",
   "execution_count": 2,
   "metadata": {
    "execution": {
     "iopub.execute_input": "2024-07-31T13:51:16.525828Z",
     "iopub.status.busy": "2024-07-31T13:51:16.524829Z",
     "iopub.status.idle": "2024-07-31T13:51:18.689715Z",
     "shell.execute_reply": "2024-07-31T13:51:18.688726Z"
    }
   },
   "outputs": [
    {
     "name": "stderr",
     "output_type": "stream",
     "text": [
      "\r",
      "[*********************100%%**********************]  1 of 1 completed"
     ]
    },
    {
     "name": "stderr",
     "output_type": "stream",
     "text": [
      "\n"
     ]
    }
   ],
   "source": [
    "import yfinance as yf\n",
    "\n",
    "# Definir el ticker para el tipo de cambio USD/COP\n",
    "ticker = \"COP=X\"\n",
    "\n",
    "# Descargar los datos históricos\n",
    "# data = yf.download(ticker, period=\"1d\", interval=\"1d\")\n",
    "data = yf.download(ticker, period=\"max\", interval=\"1wk\")\n",
    "\n",
    "# Restablecer el índice para que las fechas sean una columna\n",
    "data.reset_index(inplace=True)\n"
   ]
  },
  {
   "cell_type": "markdown",
   "metadata": {},
   "source": [
    "**Visualize Data**"
   ]
  },
  {
   "cell_type": "code",
   "execution_count": 3,
   "metadata": {
    "execution": {
     "iopub.execute_input": "2024-07-31T13:51:18.772231Z",
     "iopub.status.busy": "2024-07-31T13:51:18.772231Z",
     "iopub.status.idle": "2024-07-31T13:51:18.803232Z",
     "shell.execute_reply": "2024-07-31T13:51:18.802237Z"
    }
   },
   "outputs": [
    {
     "data": {
      "text/html": [
       "<div>\n",
       "<style scoped>\n",
       "    .dataframe tbody tr th:only-of-type {\n",
       "        vertical-align: middle;\n",
       "    }\n",
       "\n",
       "    .dataframe tbody tr th {\n",
       "        vertical-align: top;\n",
       "    }\n",
       "\n",
       "    .dataframe thead th {\n",
       "        text-align: right;\n",
       "    }\n",
       "</style>\n",
       "<table border=\"1\" class=\"dataframe\">\n",
       "  <thead>\n",
       "    <tr style=\"text-align: right;\">\n",
       "      <th></th>\n",
       "      <th>Date</th>\n",
       "      <th>Open</th>\n",
       "      <th>High</th>\n",
       "      <th>Low</th>\n",
       "      <th>Close</th>\n",
       "      <th>Adj Close</th>\n",
       "      <th>Volume</th>\n",
       "    </tr>\n",
       "  </thead>\n",
       "  <tbody>\n",
       "    <tr>\n",
       "      <th>0</th>\n",
       "      <td>2003-01-01</td>\n",
       "      <td>2852.629883</td>\n",
       "      <td>2879.399902</td>\n",
       "      <td>2835.000000</td>\n",
       "      <td>2838.500000</td>\n",
       "      <td>2838.500000</td>\n",
       "      <td>0</td>\n",
       "    </tr>\n",
       "    <tr>\n",
       "      <th>1</th>\n",
       "      <td>2003-04-16</td>\n",
       "      <td>2919.899902</td>\n",
       "      <td>2925.000000</td>\n",
       "      <td>2917.000000</td>\n",
       "      <td>2919.399902</td>\n",
       "      <td>2919.399902</td>\n",
       "      <td>0</td>\n",
       "    </tr>\n",
       "    <tr>\n",
       "      <th>2</th>\n",
       "      <td>2003-11-26</td>\n",
       "      <td>2777.500000</td>\n",
       "      <td>2777.500000</td>\n",
       "      <td>2765.000000</td>\n",
       "      <td>2765.000000</td>\n",
       "      <td>2765.000000</td>\n",
       "      <td>0</td>\n",
       "    </tr>\n",
       "    <tr>\n",
       "      <th>3</th>\n",
       "      <td>2003-12-03</td>\n",
       "      <td>2751.800049</td>\n",
       "      <td>2765.600098</td>\n",
       "      <td>2750.600098</td>\n",
       "      <td>2755.399902</td>\n",
       "      <td>2755.399902</td>\n",
       "      <td>0</td>\n",
       "    </tr>\n",
       "    <tr>\n",
       "      <th>4</th>\n",
       "      <td>2003-12-10</td>\n",
       "      <td>2763.699951</td>\n",
       "      <td>2763.699951</td>\n",
       "      <td>2739.000000</td>\n",
       "      <td>2739.000000</td>\n",
       "      <td>2739.000000</td>\n",
       "      <td>0</td>\n",
       "    </tr>\n",
       "    <tr>\n",
       "      <th>...</th>\n",
       "      <td>...</td>\n",
       "      <td>...</td>\n",
       "      <td>...</td>\n",
       "      <td>...</td>\n",
       "      <td>...</td>\n",
       "      <td>...</td>\n",
       "      <td>...</td>\n",
       "    </tr>\n",
       "    <tr>\n",
       "      <th>1077</th>\n",
       "      <td>2024-07-03</td>\n",
       "      <td>4117.950195</td>\n",
       "      <td>4123.410156</td>\n",
       "      <td>4023.449951</td>\n",
       "      <td>4064.750000</td>\n",
       "      <td>4064.750000</td>\n",
       "      <td>0</td>\n",
       "    </tr>\n",
       "    <tr>\n",
       "      <th>1078</th>\n",
       "      <td>2024-07-10</td>\n",
       "      <td>4046.399902</td>\n",
       "      <td>4046.399902</td>\n",
       "      <td>3925.750000</td>\n",
       "      <td>3935.199951</td>\n",
       "      <td>3935.199951</td>\n",
       "      <td>0</td>\n",
       "    </tr>\n",
       "    <tr>\n",
       "      <th>1079</th>\n",
       "      <td>2024-07-17</td>\n",
       "      <td>3975.360107</td>\n",
       "      <td>4046.719971</td>\n",
       "      <td>3960.810059</td>\n",
       "      <td>3992.250000</td>\n",
       "      <td>3992.250000</td>\n",
       "      <td>0</td>\n",
       "    </tr>\n",
       "    <tr>\n",
       "      <th>1080</th>\n",
       "      <td>2024-07-24</td>\n",
       "      <td>4014.750000</td>\n",
       "      <td>4100.240234</td>\n",
       "      <td>3991.998047</td>\n",
       "      <td>4064.649902</td>\n",
       "      <td>4064.649902</td>\n",
       "      <td>0</td>\n",
       "    </tr>\n",
       "    <tr>\n",
       "      <th>1081</th>\n",
       "      <td>2024-07-31</td>\n",
       "      <td>4079.290039</td>\n",
       "      <td>4079.290039</td>\n",
       "      <td>4053.649902</td>\n",
       "      <td>4059.840088</td>\n",
       "      <td>4059.840088</td>\n",
       "      <td>0</td>\n",
       "    </tr>\n",
       "  </tbody>\n",
       "</table>\n",
       "<p>1082 rows × 7 columns</p>\n",
       "</div>"
      ],
      "text/plain": [
       "           Date         Open         High          Low        Close  \\\n",
       "0    2003-01-01  2852.629883  2879.399902  2835.000000  2838.500000   \n",
       "1    2003-04-16  2919.899902  2925.000000  2917.000000  2919.399902   \n",
       "2    2003-11-26  2777.500000  2777.500000  2765.000000  2765.000000   \n",
       "3    2003-12-03  2751.800049  2765.600098  2750.600098  2755.399902   \n",
       "4    2003-12-10  2763.699951  2763.699951  2739.000000  2739.000000   \n",
       "...         ...          ...          ...          ...          ...   \n",
       "1077 2024-07-03  4117.950195  4123.410156  4023.449951  4064.750000   \n",
       "1078 2024-07-10  4046.399902  4046.399902  3925.750000  3935.199951   \n",
       "1079 2024-07-17  3975.360107  4046.719971  3960.810059  3992.250000   \n",
       "1080 2024-07-24  4014.750000  4100.240234  3991.998047  4064.649902   \n",
       "1081 2024-07-31  4079.290039  4079.290039  4053.649902  4059.840088   \n",
       "\n",
       "        Adj Close  Volume  \n",
       "0     2838.500000       0  \n",
       "1     2919.399902       0  \n",
       "2     2765.000000       0  \n",
       "3     2755.399902       0  \n",
       "4     2739.000000       0  \n",
       "...           ...     ...  \n",
       "1077  4064.750000       0  \n",
       "1078  3935.199951       0  \n",
       "1079  3992.250000       0  \n",
       "1080  4064.649902       0  \n",
       "1081  4059.840088       0  \n",
       "\n",
       "[1082 rows x 7 columns]"
      ]
     },
     "execution_count": 3,
     "metadata": {},
     "output_type": "execute_result"
    }
   ],
   "source": [
    "data"
   ]
  },
  {
   "cell_type": "markdown",
   "metadata": {},
   "source": [
    "**Open the Excel Workbook template**"
   ]
  },
  {
   "cell_type": "code",
   "execution_count": 4,
   "metadata": {
    "execution": {
     "iopub.execute_input": "2024-07-31T13:51:18.806741Z",
     "iopub.status.busy": "2024-07-31T13:51:18.805741Z",
     "iopub.status.idle": "2024-07-31T13:51:18.810227Z",
     "shell.execute_reply": "2024-07-31T13:51:18.809284Z"
    }
   },
   "outputs": [],
   "source": [
    "# ruta_plantilla_excel= r\"C:\\Users\\Juan Esteban\\Desktop\\Proyectos Python\\02. Automatizaciones\\00.(Template) Precio del dolar.xlsx\"\n",
    "# plantilla_excel= xw.Book(ruta_plantilla_excel)\n",
    "# resumen= plantilla_excel.sheets['Hoja1']"
   ]
  },
  {
   "cell_type": "markdown",
   "metadata": {},
   "source": [
    "Get the current directory where the code is being executed"
   ]
  },
  {
   "cell_type": "code",
   "execution_count": 5,
   "metadata": {
    "execution": {
     "iopub.execute_input": "2024-07-31T13:51:18.815226Z",
     "iopub.status.busy": "2024-07-31T13:51:18.814226Z",
     "iopub.status.idle": "2024-07-31T13:51:18.820375Z",
     "shell.execute_reply": "2024-07-31T13:51:18.819395Z"
    }
   },
   "outputs": [],
   "source": [
    "import os\n",
    "import xlwings as xw\n",
    "\n",
    "current_directory = os.getcwd()"
   ]
  },
  {
   "cell_type": "markdown",
   "metadata": {},
   "source": [
    "Define the path for the new file:"
   ]
  },
  {
   "cell_type": "code",
   "execution_count": 6,
   "metadata": {
    "execution": {
     "iopub.execute_input": "2024-07-31T13:51:18.828375Z",
     "iopub.status.busy": "2024-07-31T13:51:18.827377Z",
     "iopub.status.idle": "2024-07-31T13:51:18.831717Z",
     "shell.execute_reply": "2024-07-31T13:51:18.831717Z"
    }
   },
   "outputs": [],
   "source": [
    "# Define the path for the new Excel file\n",
    "new_excel_path = os.path.join(current_directory, 'NewFile.xlsx')\n"
   ]
  },
  {
   "cell_type": "markdown",
   "metadata": {},
   "source": [
    "Create the new Excel file:"
   ]
  },
  {
   "cell_type": "code",
   "execution_count": 7,
   "metadata": {
    "execution": {
     "iopub.execute_input": "2024-07-31T13:51:18.836710Z",
     "iopub.status.busy": "2024-07-31T13:51:18.835711Z",
     "iopub.status.idle": "2024-07-31T13:51:20.853307Z",
     "shell.execute_reply": "2024-07-31T13:51:20.850329Z"
    }
   },
   "outputs": [],
   "source": [
    "# Create a new Excel workbook\n",
    "plantilla_excel = xw.Book()\n",
    "\n",
    "resumen= plantilla_excel.sheets['Hoja1']"
   ]
  },
  {
   "cell_type": "markdown",
   "metadata": {},
   "source": [
    "**Insert the DataFrame Information into the Excel File**\n"
   ]
  },
  {
   "cell_type": "code",
   "execution_count": 8,
   "metadata": {
    "execution": {
     "iopub.execute_input": "2024-07-31T13:51:20.867311Z",
     "iopub.status.busy": "2024-07-31T13:51:20.866309Z",
     "iopub.status.idle": "2024-07-31T13:51:21.253048Z",
     "shell.execute_reply": "2024-07-31T13:51:21.252057Z"
    }
   },
   "outputs": [],
   "source": [
    "# Assuming 'data' is a DataFrame, get the list of column names\n",
    "columnas = data.columns.tolist()\n",
    "\n",
    "# Write the column names to cell B2 in the worksheet\n",
    "resumen.range('B2').value = columnas\n",
    "\n",
    "# Write the DataFrame values starting from cell B3 in the worksheet\n",
    "resumen.range('B3').value = data.values"
   ]
  },
  {
   "cell_type": "markdown",
   "metadata": {},
   "source": [
    "**Define the range for the header and apply the color:**"
   ]
  },
  {
   "cell_type": "code",
   "execution_count": 9,
   "metadata": {
    "execution": {
     "iopub.execute_input": "2024-07-31T13:51:21.258043Z",
     "iopub.status.busy": "2024-07-31T13:51:21.257044Z",
     "iopub.status.idle": "2024-07-31T13:51:21.288687Z",
     "shell.execute_reply": "2024-07-31T13:51:21.286700Z"
    }
   },
   "outputs": [],
   "source": [
    "# Define the range for the header (first row of the table)\n",
    "header_range = resumen.range('B2:H2')\n",
    "\n",
    "# Convert hex color to RGB\n",
    "def hex_to_rgb(hex_color):\n",
    "    hex_color = hex_color.lstrip('#')\n",
    "    return tuple(int(hex_color[i:i+2], 16) for i in (0, 2, 4))\n",
    "\n",
    "# Apply color to the header range\n",
    "header_color_rgb = hex_to_rgb('#305496')\n",
    "header_range.api.Interior.Color = (header_color_rgb[2] << 16) | (header_color_rgb[1] << 8) | header_color_rgb[0]\n",
    "\n",
    "# Apply font color to the header range\n",
    "header_range.api.Font.Color = 0xFFFFFF  # White color in hex"
   ]
  },
  {
   "cell_type": "markdown",
   "metadata": {},
   "source": [
    "**Add Border to the Table**"
   ]
  },
  {
   "cell_type": "code",
   "execution_count": 10,
   "metadata": {
    "execution": {
     "iopub.execute_input": "2024-07-31T13:51:21.298253Z",
     "iopub.status.busy": "2024-07-31T13:51:21.297687Z",
     "iopub.status.idle": "2024-07-31T13:51:21.381272Z",
     "shell.execute_reply": "2024-07-31T13:51:21.380287Z"
    }
   },
   "outputs": [],
   "source": [
    "rango = resumen.range(f'B2:H{len(data)+2}')#rango total tabla\n",
    "rango.api.Borders.LineStyle = xw.constants.LineStyle.xlContinuous#ponerle borde a todo"
   ]
  },
  {
   "cell_type": "markdown",
   "metadata": {},
   "source": [
    "**Apply the currency format to numeric columns.**"
   ]
  },
  {
   "cell_type": "code",
   "execution_count": 11,
   "metadata": {
    "execution": {
     "iopub.execute_input": "2024-07-31T13:51:21.387799Z",
     "iopub.status.busy": "2024-07-31T13:51:21.387799Z",
     "iopub.status.idle": "2024-07-31T13:51:21.415972Z",
     "shell.execute_reply": "2024-07-31T13:51:21.415972Z"
    }
   },
   "outputs": [],
   "source": [
    "# Define the range for columns C to H, starting from row 2 to the last row with data\n",
    "data_range = resumen.range(f'C2:H{len(data)+1}')\n",
    "\n",
    "# Apply currency format without decimal places to the range\n",
    "data_range.number_format = '$#,##0'"
   ]
  },
  {
   "cell_type": "markdown",
   "metadata": {},
   "source": [
    "**Create a Graph**"
   ]
  },
  {
   "cell_type": "code",
   "execution_count": 12,
   "metadata": {
    "execution": {
     "iopub.execute_input": "2024-07-31T13:51:21.421962Z",
     "iopub.status.busy": "2024-07-31T13:51:21.420962Z",
     "iopub.status.idle": "2024-07-31T13:51:21.779473Z",
     "shell.execute_reply": "2024-07-31T13:51:21.778484Z"
    }
   },
   "outputs": [],
   "source": [
    "# Define the data range for the chart\n",
    "rango_datos = resumen.range(f'B2:C{data.shape[0] + 2}')\n",
    "\n",
    "# Create a chart in a specific location, for example, in cell G2\n",
    "chart = resumen.charts.add(left=resumen.range('J2').left, top=resumen.range('J2').top, width=600, height=400)\n",
    "\n",
    "# Set the data source for the chart\n",
    "chart.set_source_data(rango_datos)\n",
    "\n",
    "# Set the chart type, for example, line\n",
    "chart.chart_type = 'line'\n",
    "\n",
    "# Add a title to the chart\n",
    "chart.api[1].HasTitle = True\n",
    "chart.api[1].ChartTitle.Text = 'Precio del Dólar (USD/COP)'\n"
   ]
  },
  {
   "cell_type": "markdown",
   "metadata": {},
   "source": [
    "**Save the File with a New Name**"
   ]
  },
  {
   "cell_type": "code",
   "execution_count": 13,
   "metadata": {
    "execution": {
     "iopub.execute_input": "2024-07-31T13:51:21.788474Z",
     "iopub.status.busy": "2024-07-31T13:51:21.787475Z",
     "iopub.status.idle": "2024-07-31T13:51:21.817206Z",
     "shell.execute_reply": "2024-07-31T13:51:21.816220Z"
    }
   },
   "outputs": [
    {
     "data": {
      "text/plain": [
       "'junio'"
      ]
     },
     "execution_count": 13,
     "metadata": {},
     "output_type": "execute_result"
    }
   ],
   "source": [
    "#fechas\n",
    "fecha_hoy = datetime.datetime.today()#datetime.date(2023, 9, 17)\n",
    "fecha_comienzo_mes = fecha_hoy.replace(day = 1)\n",
    "fecha_ultimo_comite = fecha_comienzo_mes - datetime.timedelta(days = 1)\n",
    "\n",
    "fecha_ultimo_comite\n",
    "## Configurar el idioma en español\n",
    "locale.setlocale(locale.LC_TIME, 'es_ES.utf8')\n",
    "nombre_mes_actual = calendar.month_name[fecha_ultimo_comite.month]\n",
    "\n",
    "nombre_mes_actual"
   ]
  },
  {
   "cell_type": "markdown",
   "metadata": {},
   "source": [
    "Ponerle nombre al archivo y cerrarlo"
   ]
  },
  {
   "cell_type": "code",
   "execution_count": 14,
   "metadata": {
    "execution": {
     "iopub.execute_input": "2024-07-31T13:51:21.826212Z",
     "iopub.status.busy": "2024-07-31T13:51:21.826212Z",
     "iopub.status.idle": "2024-07-31T13:51:22.671209Z",
     "shell.execute_reply": "2024-07-31T13:51:22.670211Z"
    }
   },
   "outputs": [],
   "source": [
    "\n",
    "plantilla_excel.save(f\"1. Historico de tasas de cambio {nombre_mes_actual.capitalize()} {fecha_ultimo_comite.year}.xlsx\")\n",
    "\n",
    "# Cerrar el archivo Excel\n",
    "plantilla_excel.close()"
   ]
  },
  {
   "cell_type": "markdown",
   "metadata": {},
   "source": [
    "Send an email with an attached file."
   ]
  },
  {
   "cell_type": "code",
   "execution_count": 15,
   "metadata": {
    "execution": {
     "iopub.execute_input": "2024-07-31T13:51:22.681209Z",
     "iopub.status.busy": "2024-07-31T13:51:22.680209Z",
     "iopub.status.idle": "2024-07-31T13:51:26.813236Z",
     "shell.execute_reply": "2024-07-31T13:51:26.812247Z"
    }
   },
   "outputs": [],
   "source": [
    "#fechas\n",
    "fecha_hoy = datetime.datetime.today()#datetime.date(2023, 9, 17)\n",
    "fecha_comienzo_mes = fecha_hoy.replace(day = 1)\n",
    "fecha_ultimo_comite = fecha_comienzo_mes - datetime.timedelta(days = 1)\n",
    "\n",
    "## Configurar el idioma en español\n",
    "locale.setlocale(locale.LC_TIME, 'es_ES.utf8')\n",
    "nombre_mes_actual = calendar.month_name[fecha_ultimo_comite.month]\n",
    "\n",
    "\n",
    "# Configurar los detalles del correo electrónico\n",
    "remitente = 'juan.parrado.data@gmail.com'\n",
    "destinatarios = ['juan.parrado.data@gmail.com']\n",
    "asunto = f'Informe de tasa de cambio {nombre_mes_actual.capitalize()} {fecha_ultimo_comite.year}'\n",
    "mensaje = f'''This is an automation for receiving an email with the exchange rate information.'''\n",
    "\n",
    "# Crear el objeto MIMEMultipart para el mensaje\n",
    "msg = EmailMessage()\n",
    "msg.set_content(mensaje)\n",
    "msg['Subject'] = asunto\n",
    "msg['From'] = remitente\n",
    "msg['To'] = ', '.join(destinatarios)\n",
    "\n",
    "#leer credenciales\n",
    "credenciales=pd.read_excel(r\"C:\\Users\\Juan Esteban\\Desktop\\Proyectos Python\\credenciales.xlsx\")\n",
    "\n",
    "#nombre archivo resultante\n",
    "archivo_base = (f\"1. Historico de tasas de cambio {nombre_mes_actual.capitalize()} {fecha_ultimo_comite.year}.xlsx\")\n",
    "\n",
    "# Adjuntar el archivo Excel\n",
    "\n",
    "with open(archivo_base, 'rb') as archivo:\n",
    "    contenido_adjunto = archivo.read()\n",
    "    msg.add_attachment(contenido_adjunto, maintype='application', subtype='octet-stream', filename=archivo_base)\n",
    "\n",
    "\n",
    "# Configurar la conexión SMTP\n",
    "smtp_server = credenciales['valores'][0]\n",
    "smtp_port = credenciales['valores'][1]\n",
    "smtp_user = credenciales['valores'][2]\n",
    "smtp_password = credenciales['valores'][3]\n",
    "\n",
    "# Iniciar la conexión SMTP y enviar el correo electrónico\n",
    "with smtplib.SMTP(smtp_server, smtp_port) as server:\n",
    "    server.starttls()\n",
    "    server.login(smtp_user, smtp_password)\n",
    "    server.send_message(msg)"
   ]
  }
 ],
 "metadata": {
  "kernelspec": {
   "display_name": "Python 3",
   "language": "python",
   "name": "python3"
  },
  "language_info": {
   "codemirror_mode": {
    "name": "ipython",
    "version": 3
   },
   "file_extension": ".py",
   "mimetype": "text/x-python",
   "name": "python",
   "nbconvert_exporter": "python",
   "pygments_lexer": "ipython3",
   "version": "3.12.4"
  }
 },
 "nbformat": 4,
 "nbformat_minor": 2
}
